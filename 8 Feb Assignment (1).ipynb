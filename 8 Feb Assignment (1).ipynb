{
 "cells": [
  {
   "cell_type": "markdown",
   "id": "44ee52c0-43fb-4597-b990-6f01b7e317e6",
   "metadata": {},
   "source": [
    "Q1ANSWER\n",
    "\n",
    "The process by which data and functions are defined in such a way that only essential details can be seen and unnecessary implementations are hidden is called Data Abstraction.\n",
    "\n",
    "The main focus of data abstraction is to separate the interface and the implementation of the program.\n",
    "\n",
    "Data Abstraction in Python can be achieved through creating abstract classes and inheriting them later.\n",
    "\n",
    "Inheritance in OOP is a way through which one class inherits the attributes and methods of another class. The class whose properties and methods are inherited is known as the Parent class. And the class that inherits the properties from the parent class is the Child class/subclass.\n",
    "\n",
    "Abstract Class: The classes that cannot be instantiated. This means that we cannot create objects of an abstract class and these are only meant to be inherited. Then an object of the derived class is used to access the features of the base class. These are specifically defined to lay a foundation of other classes that exhibit common behavior or characteristics\n",
    "\n",
    "We can understand that an abstract class just serves as a template for other classes by defining a list of methods that the classes must implement. To use such a class, we must derive them keeping in mind that we would either be using or overriding the features specified in that class.\n"
   ]
  },
  {
   "cell_type": "markdown",
   "id": "184fcb19-6f6d-42c7-bf8d-551b33f9b57a",
   "metadata": {},
   "source": [
    "classes Mango and Orange from the Fruit class that implement the methods defined in this class. Here the Fruit class is the parent abstract class and the classes Mango and Apple become the sub/child classes. We won’t be able to access the methods of the Fruit class by simply creating an object, we will have to create the objects of the derived classes: Mango and Apple to access the methods."
   ]
  },
  {
   "cell_type": "code",
   "execution_count": 7,
   "id": "3bfaa0f8-efb0-4277-9a5f-a1ad2a8cd03e",
   "metadata": {},
   "outputs": [],
   "source": [
    "from  abc import ABC,abstractmethod\n",
    "class fruits(ABC):\n",
    "    @abstractmethod\n",
    "    def taste(self):\n",
    "        pass\n",
    "    @abstractmethod\n",
    "    def color(self):\n",
    "        pass"
   ]
  },
  {
   "cell_type": "code",
   "execution_count": 8,
   "id": "47177cc1-f88c-4340-91f2-b66c22770846",
   "metadata": {},
   "outputs": [
    {
     "ename": "TypeError",
     "evalue": "Can't instantiate abstract class fruits with abstract methods color, taste",
     "output_type": "error",
     "traceback": [
      "\u001b[0;31m---------------------------------------------------------------------------\u001b[0m",
      "\u001b[0;31mTypeError\u001b[0m                                 Traceback (most recent call last)",
      "Cell \u001b[0;32mIn[8], line 1\u001b[0m\n\u001b[0;32m----> 1\u001b[0m x\u001b[38;5;241m=\u001b[39m\u001b[43mfruits\u001b[49m\u001b[43m(\u001b[49m\u001b[43m)\u001b[49m \u001b[38;5;66;03m#abstract class cannot be instaniated\u001b[39;00m\n",
      "\u001b[0;31mTypeError\u001b[0m: Can't instantiate abstract class fruits with abstract methods color, taste"
     ]
    }
   ],
   "source": [
    "x=fruits() #abstract class cannot be instaniated"
   ]
  },
  {
   "cell_type": "code",
   "execution_count": 9,
   "id": "27eae04e-7620-4e54-bebf-511211b6b718",
   "metadata": {},
   "outputs": [],
   "source": [
    "class mango(fruits):\n",
    "    def taste(self):\n",
    "        print(\"tangy\")\n",
    "    def color(self):\n",
    "        print(\"yellow\")"
   ]
  },
  {
   "cell_type": "code",
   "execution_count": 10,
   "id": "32016a33-d3c4-4091-9802-93d89d1b62b4",
   "metadata": {},
   "outputs": [],
   "source": [
    "x=mango()# child class methods of base class can be used and can be modified"
   ]
  },
  {
   "cell_type": "code",
   "execution_count": 11,
   "id": "08a016ca-1257-41fc-a38b-e22ecea7fe17",
   "metadata": {},
   "outputs": [
    {
     "name": "stdout",
     "output_type": "stream",
     "text": [
      "yellow\n"
     ]
    }
   ],
   "source": [
    "x.color()"
   ]
  },
  {
   "cell_type": "code",
   "execution_count": 12,
   "id": "72c44934-c2c4-45ee-8a35-1e6db437163a",
   "metadata": {},
   "outputs": [
    {
     "name": "stdout",
     "output_type": "stream",
     "text": [
      "tangy\n"
     ]
    }
   ],
   "source": [
    "x.taste()"
   ]
  },
  {
   "cell_type": "markdown",
   "id": "16f3e387-3176-4d60-a74c-f65604a28b0e",
   "metadata": {},
   "source": [
    "#Q2 ANSWER\n",
    "\n",
    "#Abstraction is the process or method of gaining the information.\n",
    "\n",
    "While encapsulation is the process or method to contain the information.\n",
    "\n",
    "#In abstraction, problems are solved at the design or interface level.\n",
    "\n",
    "While in encapsulation, problems are solved at the implementation level.\n",
    "\n",
    "#Abstraction is the method of hiding the unwanted information\n",
    "\n",
    "Whereas encapsulation is a method to hide the data in a single entity or unit along with a method to protect information from outside.\n",
    "\n",
    "#We can implement abstraction using abstract class and interfaces.\n",
    "\n",
    "Whereas encapsulation can be implemented using by access modifier i.e. private, protected and public.\n",
    "\n",
    "#In abstraction, implementation complexities are hidden using abstract classes and interfaces.\n",
    "\n",
    "While in encapsulation, the data is hidden using methods of getters and setters.\n",
    "\n",
    "#Abstraction provides access to specific part of data.\n",
    "\n",
    "Encapsulation hides data and the user can not access same directly (data hiding)."
   ]
  },
  {
   "cell_type": "code",
   "execution_count": 24,
   "id": "082145ad-ce9d-49f8-9dd0-959eeadf9332",
   "metadata": {},
   "outputs": [],
   "source": [
    "# NOT ENCAPSULTED\n",
    "class cat:\n",
    "    def __init__(self,sound):\n",
    "        self.sound=sound\n",
    "    def catspeaking(self):\n",
    "        print(f\"cat says {self.sound}\")\n",
    "        "
   ]
  },
  {
   "cell_type": "code",
   "execution_count": 15,
   "id": "da1c88eb-dff1-4657-a53b-04cfb83d38be",
   "metadata": {},
   "outputs": [],
   "source": [
    "c=cat(\"meow\")"
   ]
  },
  {
   "cell_type": "code",
   "execution_count": 16,
   "id": "cc69e398-e7ef-4260-9544-05efcbafa2a6",
   "metadata": {},
   "outputs": [
    {
     "name": "stdout",
     "output_type": "stream",
     "text": [
      "cat says meow\n"
     ]
    }
   ],
   "source": [
    "c.catspeaking()"
   ]
  },
  {
   "cell_type": "code",
   "execution_count": 17,
   "id": "4b9a486c-62f5-4a20-9f05-e2bf72649f8d",
   "metadata": {},
   "outputs": [],
   "source": [
    "c.sound=\"bowbow\" #your data is acessed outside the code and change"
   ]
  },
  {
   "cell_type": "code",
   "execution_count": 18,
   "id": "85e2cc1d-4fb1-4e1c-a52b-5aeb6b166159",
   "metadata": {},
   "outputs": [
    {
     "name": "stdout",
     "output_type": "stream",
     "text": [
      "cat says bowbow\n"
     ]
    }
   ],
   "source": [
    "c.catspeaking() #you variables is acessed"
   ]
  },
  {
   "cell_type": "code",
   "execution_count": 25,
   "id": "00781883-47ad-4489-bcb2-72a326ec9864",
   "metadata": {},
   "outputs": [],
   "source": [
    "# variables are encapsulated\n",
    "class cat:\n",
    "    def __init__(self,sound):\n",
    "        self.__sound=sound\n",
    "    def catspeaking(self):\n",
    "        print(f\"cat says {self.__sound}\")"
   ]
  },
  {
   "cell_type": "code",
   "execution_count": 26,
   "id": "3557f8d2-7921-4a68-9cfb-8852d5acc567",
   "metadata": {},
   "outputs": [],
   "source": [
    "d=cat(\"meow\")"
   ]
  },
  {
   "cell_type": "code",
   "execution_count": 27,
   "id": "185d8112-0d14-4130-a442-ec01dfb46ed6",
   "metadata": {},
   "outputs": [
    {
     "name": "stdout",
     "output_type": "stream",
     "text": [
      "cat says meow\n"
     ]
    }
   ],
   "source": [
    "d.catspeaking()"
   ]
  },
  {
   "cell_type": "code",
   "execution_count": 28,
   "id": "5ac3178e-7afb-4013-8648-f6ac4c96ee99",
   "metadata": {},
   "outputs": [],
   "source": [
    "d.__sound=\"bowbow\"#your data cannot be acessed outside the code"
   ]
  },
  {
   "cell_type": "code",
   "execution_count": 29,
   "id": "cda712a0-7d90-4d45-8762-76bc001cdedc",
   "metadata": {},
   "outputs": [
    {
     "name": "stdout",
     "output_type": "stream",
     "text": [
      "cat says meow\n"
     ]
    }
   ],
   "source": [
    "d.catspeaking()# unchanged"
   ]
  },
  {
   "cell_type": "code",
   "execution_count": 31,
   "id": "52732b1e-4efe-47a0-a8b7-965858146a14",
   "metadata": {},
   "outputs": [],
   "source": [
    "#ABSTRACTION METHOD\n",
    "from abc import ABC,abstractmethod\n",
    "class shape(ABC):\n",
    "    @abstractmethod\n",
    "    def __init__(self,shapetype):\n",
    "        self.shapetype=shapetype\n",
    "    @abstractmethod\n",
    "    def area(self):\n",
    "        pass\n",
    "    @abstractmethod\n",
    "    def perimeter(self):\n",
    "        pass"
   ]
  },
  {
   "cell_type": "code",
   "execution_count": 32,
   "id": "f2a4aeb2-2efb-4477-b62f-23bcaf210741",
   "metadata": {},
   "outputs": [
    {
     "ename": "TypeError",
     "evalue": "Can't instantiate abstract class shape with abstract methods __init__, area, perimeter",
     "output_type": "error",
     "traceback": [
      "\u001b[0;31m---------------------------------------------------------------------------\u001b[0m",
      "\u001b[0;31mTypeError\u001b[0m                                 Traceback (most recent call last)",
      "Cell \u001b[0;32mIn[32], line 1\u001b[0m\n\u001b[0;32m----> 1\u001b[0m y\u001b[38;5;241m=\u001b[39m\u001b[43mshape\u001b[49m\u001b[43m(\u001b[49m\u001b[43m)\u001b[49m\n",
      "\u001b[0;31mTypeError\u001b[0m: Can't instantiate abstract class shape with abstract methods __init__, area, perimeter"
     ]
    }
   ],
   "source": [
    "y=shape()"
   ]
  },
  {
   "cell_type": "code",
   "execution_count": 33,
   "id": "408cbdc4-388b-43a7-9246-7b41c00e561f",
   "metadata": {},
   "outputs": [],
   "source": [
    "class rectangle(shape):\n",
    "    def __init__(self,length,breadth):\n",
    "        self.length=length\n",
    "        self.breadth=breadth\n",
    "    def area(self):\n",
    "        return self.length*self.breadth\n",
    "    def perimeter(self):\n",
    "        return 2*(self.length+self.breadth)"
   ]
  },
  {
   "cell_type": "code",
   "execution_count": 34,
   "id": "3231a376-fac3-434b-ad3f-8c9a1fc37f17",
   "metadata": {},
   "outputs": [],
   "source": [
    "r=rectangle(3,2)"
   ]
  },
  {
   "cell_type": "code",
   "execution_count": 35,
   "id": "d0313057-6f3a-46a4-89a2-f1da8feb1ef9",
   "metadata": {},
   "outputs": [
    {
     "data": {
      "text/plain": [
       "10"
      ]
     },
     "execution_count": 35,
     "metadata": {},
     "output_type": "execute_result"
    }
   ],
   "source": [
    "r.perimeter()"
   ]
  },
  {
   "cell_type": "code",
   "execution_count": 36,
   "id": "ae840abd-66ea-44b8-a866-ab0cb2f927f8",
   "metadata": {},
   "outputs": [
    {
     "data": {
      "text/plain": [
       "6"
      ]
     },
     "execution_count": 36,
     "metadata": {},
     "output_type": "execute_result"
    }
   ],
   "source": [
    "\n",
    "r.area()"
   ]
  },
  {
   "cell_type": "markdown",
   "id": "d852caaf-2bb2-4ca3-953b-44ff920784d6",
   "metadata": {},
   "source": [
    "Q3 ANSWER\n",
    "\n",
    "Python does not provide the abstract class itself. To achieve that, we use the abc module of Python, which provides the base and necessary tools for defining Abstract Base Classes (ABC). ABCs give the feature of virtual subclasses, which are classes that don’t inherit from a class and can still be recognized by\n",
    "\n",
    "The ‘abc’ module in the Python library provides the infrastructure for defining custom abstract base classes\n"
   ]
  },
  {
   "cell_type": "markdown",
   "id": "cae9efbe-c401-4316-8243-d8199a32ef90",
   "metadata": {},
   "source": [
    "#Q4 ANSWER\n",
    "\n",
    "The process by which data and functions are defined in such a way that only essential details can be seen and unnecessary implementations are hidden is called Data Abstraction.\n",
    "\n",
    "The main focus of data abstraction is to separate the interface and the implementation of the program.\n",
    "\n",
    "Data Abstraction in Python can be achieved through creating abstract classes and inheriting them later.\n",
    "\n",
    "Inheritance in OOP is a way through which one class inherits the attributes and methods of another class. The class whose properties and methods are inherited is known as the Parent class. And the class that inherits the properties from the parent class is the Child class/subclass.\n",
    "\n",
    "Abstract Class: The classes that cannot be instantiated. This means that we cannot create objects of an abstract class and these are only meant to be inherited. Then an object of the derived class is used to access the features of the base class. These are specifically defined to lay a foundation of other classes that exhibit common behavior or characteristics\n",
    "\n",
    "We can understand that an abstract class just serves as a template for other classes by defining a list of methods that the classes must implement. To use such a class, we must derive them keeping in mind that we would either be using or overriding the features specified in that class.\n"
   ]
  },
  {
   "cell_type": "markdown",
   "id": "e5c24c22-c6b0-4add-9497-56380d66d188",
   "metadata": {},
   "source": [
    "Python does not provide the abstract class itself. To achieve that, we use the abc module of Python, which provides the base and necessary tools for defining Abstract Base Classes (ABC). ABCs give the feature of virtual subclasses, which are classes that don’t inherit from a class and can still be recognized by\n",
    "\n",
    "The methods where the implementation may vary for any other subclass are defined as abstract methods and need to be given an implementation in the subclass definition.\n",
    "\n",
    "On the other hand, there are methods that have the same implementation for all subclasses as well. There are characteristics that exhibit the properties of the abstract class and so, must be implemented in the abstract class itself. Otherwise, it will lead to repetitive code in all the inherited classes. These methods are called concrete methods.\n",
    "\n",
    "An abstract class can have both abstract methods and concrete methods.\n",
    "\n",
    "We can now access the concrete method of the abstract class by instantiating an object of the child class. We can also access the abstract methods of the child classes with it\n",
    "\n"
   ]
  },
  {
   "cell_type": "code",
   "execution_count": 37,
   "id": "4685161f-1242-4521-814a-1e79e1a129ef",
   "metadata": {},
   "outputs": [],
   "source": [
    "from abc import ABC,abstractmethod\n",
    " \n",
    "class Animal(ABC):\n",
    " \n",
    "    #concrete method\n",
    "    def sleep(self):\n",
    "        print(\"I am going to sleep in a while\")\n",
    " \n",
    "    @abstractmethod\n",
    "    def sound(self):\n",
    "        print(\"This function is for defining the sound by any animal\")\n",
    "        pass\n",
    " "
   ]
  },
  {
   "cell_type": "code",
   "execution_count": 38,
   "id": "a485d052-e495-4722-804f-a9cb95a7dda7",
   "metadata": {},
   "outputs": [],
   "source": [
    "class Snake(Animal):\n",
    "    def sound(self):\n",
    "        print(\"I can hiss\")"
   ]
  },
  {
   "cell_type": "code",
   "execution_count": 39,
   "id": "65c8e283-e33b-449a-8ffe-408f9148a836",
   "metadata": {},
   "outputs": [],
   "source": [
    "s=Snake()"
   ]
  },
  {
   "cell_type": "code",
   "execution_count": 40,
   "id": "5577e932-8b0f-4af9-abed-018f601ed989",
   "metadata": {},
   "outputs": [
    {
     "name": "stdout",
     "output_type": "stream",
     "text": [
      "I am going to sleep in a while\n"
     ]
    }
   ],
   "source": [
    "s.sleep()#concrete method"
   ]
  },
  {
   "cell_type": "code",
   "execution_count": 41,
   "id": "a99fcc98-3e29-4097-b31d-69e72d88ffcd",
   "metadata": {},
   "outputs": [
    {
     "name": "stdout",
     "output_type": "stream",
     "text": [
      "I can hiss\n"
     ]
    }
   ],
   "source": [
    "s.sound()#abstract method"
   ]
  },
  {
   "cell_type": "code",
   "execution_count": 43,
   "id": "dc13541c-7c5f-4068-9640-cceb217a203a",
   "metadata": {},
   "outputs": [],
   "source": [
    "class Dog(Animal):\n",
    "    def sound(self):\n",
    "        print(\"I can bark\")"
   ]
  },
  {
   "cell_type": "code",
   "execution_count": 44,
   "id": "2ee46e20-b170-48aa-980c-bce1212ce24a",
   "metadata": {},
   "outputs": [],
   "source": [
    "d=Dog()"
   ]
  },
  {
   "cell_type": "code",
   "execution_count": 45,
   "id": "73f846b0-9689-4283-90b4-aeb6c5b7cc1a",
   "metadata": {},
   "outputs": [
    {
     "name": "stdout",
     "output_type": "stream",
     "text": [
      "I am going to sleep in a while\n"
     ]
    }
   ],
   "source": [
    "d.sleep()"
   ]
  },
  {
   "cell_type": "code",
   "execution_count": 46,
   "id": "4cc3a786-0e42-4182-a549-fdf45a3ecdfb",
   "metadata": {},
   "outputs": [
    {
     "name": "stdout",
     "output_type": "stream",
     "text": [
      "I can bark\n"
     ]
    }
   ],
   "source": [
    "d.sound()"
   ]
  },
  {
   "cell_type": "markdown",
   "id": "2946d657-7cb7-47b0-b006-1504f1fac264",
   "metadata": {},
   "source": [
    "Our abstract base class has a concrete method sleep() that will be the same for all the child classes. So, we do not define it as an abstract method, thus saving us from code repetition. On the other hand, the sounds that animals make are all different. For that purpose, we defined the sound() method as an abstract method. We then implement it in all child classes"
   ]
  },
  {
   "cell_type": "markdown",
   "id": "e4c4ca6f-6548-44c4-a76b-781190285703",
   "metadata": {},
   "source": [
    "#Q4ANSWER\n",
    "\n",
    "Abstract Class: The classes that cannot be instantiated. This means that we cannot create objects of an abstract class and these are only meant to be inherited. Then an object of the derived class is used to access the features of the base class. These are specifically defined to lay a foundation of other classes that exhibit common behavior or characteristics\n",
    "\n",
    "We can understand that an abstract class just serves as a template for other classes by defining a list of methods that the classes must implement."
   ]
  },
  {
   "cell_type": "code",
   "execution_count": 47,
   "id": "59acf5f8-a64a-4081-ad60-bd7288f4cbe2",
   "metadata": {},
   "outputs": [],
   "source": [
    "from  abc import ABC,abstractmethod\n",
    "class fruits(ABC):\n",
    "    @abstractmethod\n",
    "    def taste(self):\n",
    "        pass\n",
    "    @abstractmethod\n",
    "    def color(self):\n",
    "        pass"
   ]
  },
  {
   "cell_type": "code",
   "execution_count": 48,
   "id": "19abefca-dca2-4e7f-b154-0355fd41d019",
   "metadata": {},
   "outputs": [
    {
     "ename": "TypeError",
     "evalue": "Can't instantiate abstract class fruits with abstract methods color, taste",
     "output_type": "error",
     "traceback": [
      "\u001b[0;31m---------------------------------------------------------------------------\u001b[0m",
      "\u001b[0;31mTypeError\u001b[0m                                 Traceback (most recent call last)",
      "Cell \u001b[0;32mIn[48], line 1\u001b[0m\n\u001b[0;32m----> 1\u001b[0m x\u001b[38;5;241m=\u001b[39m\u001b[43mfruits\u001b[49m\u001b[43m(\u001b[49m\u001b[43m)\u001b[49m\u001b[38;5;66;03m#abstract cannot be instaniated ti servesas a template for derived classes\u001b[39;00m\n",
      "\u001b[0;31mTypeError\u001b[0m: Can't instantiate abstract class fruits with abstract methods color, taste"
     ]
    }
   ],
   "source": [
    "x=fruits()#abstract cannot be instaniated ti servesas a template for derived classes"
   ]
  },
  {
   "cell_type": "code",
   "execution_count": null,
   "id": "cc0819e5-edb8-4286-b822-9fcf2ac39b42",
   "metadata": {},
   "outputs": [],
   "source": []
  }
 ],
 "metadata": {
  "kernelspec": {
   "display_name": "Python 3 (ipykernel)",
   "language": "python",
   "name": "python3"
  },
  "language_info": {
   "codemirror_mode": {
    "name": "ipython",
    "version": 3
   },
   "file_extension": ".py",
   "mimetype": "text/x-python",
   "name": "python",
   "nbconvert_exporter": "python",
   "pygments_lexer": "ipython3",
   "version": "3.10.8"
  }
 },
 "nbformat": 4,
 "nbformat_minor": 5
}
